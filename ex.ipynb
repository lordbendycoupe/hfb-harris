{
 "cells": [
  {
   "cell_type": "code",
   "execution_count": 7,
   "metadata": {},
   "outputs": [],
   "source": [
    "import pandas as pd\n",
    "import json\n",
    "from decimal import Decimal\n",
    "import requests\n",
    "import boto3\n",
    "import numpy as np"
   ]
  },
  {
   "cell_type": "code",
   "execution_count": 8,
   "metadata": {},
   "outputs": [],
   "source": [
    "class minor_class:\n",
    "\n",
    "    def __init__(self) -> None:\n",
    "        self.url = 'https://api.census.gov/data'\n",
    "        self.dataset = \"/timeseries/poverty/saipe?\"\n",
    "        self.variable = 'get=NAME,SAEPOV0_17_PT'\n",
    "        self.county = '&for=county:201'\n",
    "        self.state = '&in=state:48'\n",
    "        self.year = '&time=2018'\n",
    "        self.apikey = '&key=339cb547571cda5f3e85d818a501d3821e13077a'\n",
    "\n",
    "    def call_url(self):\n",
    "        assembled_url = f'{self.url}{self.dataset}{self.variable}{self.county}{self.state}{self.year}{self.apikey}'\n",
    "        getrequest = requests.get(assembled_url).json() \n",
    "        return getrequest\n",
    "\n",
    "   \n",
    "\n",
    "    def to_csv(self):\n",
    "        arr = self.call_url()\n",
    "        headers = ['county_name', '<18_in_poverty', 'year', 'state_id', 'county_id']\n",
    "        df = pd.DataFrame(np.array(arr[1:]), columns=headers)\n",
    "        dfcsv = df.to_csv('minor.csv', index=False)\n",
    "        return dfcsv\n",
    "\n",
    "\n",
    "class total_pop_class:\n",
    "\n",
    "    def __init__(self) -> None:\n",
    "        self.url = 'https://api.census.gov/data'\n",
    "        self.dataset = \"/timeseries/poverty/saipe?\"\n",
    "        self.variable = 'get=NAME,SAEPOVALL_PT'\n",
    "        self.county = '&for=county:201'\n",
    "        self.state = '&in=state:48'\n",
    "        self.year = '&time=2018'\n",
    "        self.apikey = '&key=339cb547571cda5f3e85d818a501d3821e13077a'\n",
    "        \n",
    "    def call_url(self):\n",
    "        assembled_url = f'{self.url}{self.dataset}{self.variable}{self.county}{self.state}{self.year}{self.apikey}'\n",
    "        getrequest = requests.get(assembled_url).json()\n",
    "        return getrequest\n",
    "\n",
    "   \n",
    "    def to_csv(self):\n",
    "        arr = self.call_url()\n",
    "        headers = ['county_name', 'total_poverty', 'year', 'state_id', 'county_id']\n",
    "        df = pd.DataFrame(np.array(arr[1:]), columns=headers)\n",
    "        dfcsv = df.to_csv('totalpop.csv', index=False)\n",
    "        return dfcsv\n",
    "\n",
    "\n",
    "class median_income_class:\n",
    "\n",
    "    def __init__(self) -> None:\n",
    "        self.url = 'https://api.census.gov/data'\n",
    "        self.dataset = \"/timeseries/poverty/saipe?\"\n",
    "        self.variable = 'get=NAME,SAEMHI_PT'\n",
    "        self.county = '&for=county:201'\n",
    "        self.state = '&in=state:48'\n",
    "        self.year = '&time=2018'\n",
    "        self.apikey = '&key=339cb547571cda5f3e85d818a501d3821e13077a'\n",
    "        \n",
    "    def call_url(self):\n",
    "        assembled_url = f'{self.url}{self.dataset}{self.variable}{self.county}{self.state}{self.year}{self.apikey}'\n",
    "        getrequest = requests.get(assembled_url).json()\n",
    "        return getrequest\n",
    " \n",
    "\n",
    "    def to_csv(self):\n",
    "        arr = self.call_url()\n",
    "        headers = ['county_name', 'median_income', 'year', 'state_id', 'county_id']\n",
    "        df = pd.DataFrame(np.array(arr[1:]), columns=headers)\n",
    "        dfcsv = df.to_csv('income.csv', index=False)\n",
    "        return dfcsv\n",
    "\n",
    "\n",
    "        \n",
    "\n"
   ]
  },
  {
   "cell_type": "code",
   "execution_count": 9,
   "metadata": {},
   "outputs": [
    {
     "data": {
      "text/plain": [
       "\" getmethod = 'GET'\\nminor_path = '/minor'\\ntotal_path = '/total'\\nincome_path = '/income'\\n\\ndef lambda_handler(event, context):\\n    minorobj = minor_class()\\n    popobj = total_pop_class()\\n    medianobj = median_income()\\n    usermethod = event['usermethod']\\n    userpath = event['userpath']\\n    \\n    if usermethod and userpath == minor_path and getmethod:\\n        minorurl = minorobj.call_url()\\n        minordata = minorobj.clean_data()\\n        minorcsv = minorobj.to_csv()\\n        return minordata, minorcsv\\n\\n    elif usermethod and userpath == total_path and getmethod:\\n        popurl = popobj.call_url()\\n        popdata = popobj.clean_data()\\n        popcsv = popobj.to_csv()\\n        return popdata, popcsv\\n\\n    elif usermethod and userpath == income_path and getmethod:\\n        medianurl = medianobj.call_url()\\n        mediandata = medianobj.clean_data()\\n        mediancsv = medianobj.to_csv()\\n        return mediandata, mediancsv\\n        \\n    else:\\n        print('could not call api') \""
      ]
     },
     "execution_count": 9,
     "metadata": {},
     "output_type": "execute_result"
    }
   ],
   "source": [
    "### code for the lambda function, not needed to function ## \n",
    "\n",
    "\"\"\" getmethod = 'GET'\n",
    "minor_path = '/minor'\n",
    "total_path = '/total'\n",
    "income_path = '/income'\n",
    "\n",
    "def lambda_handler(event, context):\n",
    "    minorobj = minor_class()\n",
    "    popobj = total_pop_class()\n",
    "    medianobj = median_income()\n",
    "    usermethod = event['usermethod']\n",
    "    userpath = event['userpath']\n",
    "    \n",
    "    if usermethod and userpath == minor_path and getmethod:\n",
    "        minorurl = minorobj.call_url()\n",
    "        minordata = minorobj.clean_data()\n",
    "        minorcsv = minorobj.to_csv()\n",
    "        return minordata, minorcsv\n",
    "\n",
    "    elif usermethod and userpath == total_path and getmethod:\n",
    "        popurl = popobj.call_url()\n",
    "        popdata = popobj.clean_data()\n",
    "        popcsv = popobj.to_csv()\n",
    "        return popdata, popcsv\n",
    "\n",
    "    elif usermethod and userpath == income_path and getmethod:\n",
    "        medianurl = medianobj.call_url()\n",
    "        mediandata = medianobj.clean_data()\n",
    "        mediancsv = medianobj.to_csv()\n",
    "        return mediandata, mediancsv\n",
    "        \n",
    "    else:\n",
    "        print('could not call api') \"\"\"\n",
    "        \n",
    "\n",
    "\n"
   ]
  },
  {
   "cell_type": "code",
   "execution_count": 10,
   "metadata": {},
   "outputs": [],
   "source": [
    "class CustomEncoder(json.JSONDecoder):\n",
    "    def default(self, obj):\n",
    "        if isinstance(obj, Decimal):\n",
    "            return float(obj)\n",
    "\n",
    "        return json.JSONEncoder.default(self, obj)"
   ]
  },
  {
   "cell_type": "code",
   "execution_count": 11,
   "metadata": {},
   "outputs": [],
   "source": [
    "minor_object = minor_class()\n",
    "total_object = total_pop_class()\n",
    "median_object = median_income_class()\n",
    "\n",
    "minor_object.call_url()\n",
    "minor_object.to_csv()\n",
    "\n",
    "total_object.call_url()\n",
    "total_object.to_csv()\n",
    "\n",
    "median_object.call_url()\n",
    "median_object.to_csv()\n",
    "\n"
   ]
  },
  {
   "cell_type": "code",
   "execution_count": null,
   "metadata": {},
   "outputs": [],
   "source": []
  }
 ],
 "metadata": {
  "kernelspec": {
   "display_name": "Python 3.10.6 64-bit",
   "language": "python",
   "name": "python3"
  },
  "language_info": {
   "codemirror_mode": {
    "name": "ipython",
    "version": 3
   },
   "file_extension": ".py",
   "mimetype": "text/x-python",
   "name": "python",
   "nbconvert_exporter": "python",
   "pygments_lexer": "ipython3",
   "version": "3.10.7"
  },
  "orig_nbformat": 4,
  "vscode": {
   "interpreter": {
    "hash": "e7370f93d1d0cde622a1f8e1c04877d8463912d04d973331ad4851f04de6915a"
   }
  }
 },
 "nbformat": 4,
 "nbformat_minor": 2
}
